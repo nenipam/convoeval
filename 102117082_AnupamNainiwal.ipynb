{
  "nbformat": 4,
  "nbformat_minor": 0,
  "metadata": {
    "colab": {
      "provenance": [],
      "include_colab_link": true
    },
    "kernelspec": {
      "name": "python3",
      "display_name": "Python 3"
    },
    "language_info": {
      "name": "python"
    }
  },
  "cells": [
    {
      "cell_type": "markdown",
      "metadata": {
        "id": "view-in-github",
        "colab_type": "text"
      },
      "source": [
        "<a href=\"https://colab.research.google.com/github/nenipam/convoeval/blob/main/102117082_AnupamNainiwal.ipynb\" target=\"_parent\"><img src=\"https://colab.research.google.com/assets/colab-badge.svg\" alt=\"Open In Colab\"/></a>"
      ]
    },
    {
      "cell_type": "markdown",
      "source": [
        "Name: **Anupam Nainiwal**  \n",
        "Email: `anainiwal_be21@thapar.edu`  \n",
        "Roll No: **102117082**  \n",
        "Group: **4CS3**  \n",
        "Start Timestamp: 20240911-1038  "
      ],
      "metadata": {
        "id": "JxSGFfaneMt9"
      }
    },
    {
      "cell_type": "markdown",
      "source": [
        "## Question\n",
        "\n",
        "Table of Contents\n",
        "_________________\n",
        "\n",
        "1. Logistics\n",
        "2. Task\n",
        "3. Deliverables\n",
        "4. Evaluation\n",
        "5. Note\n",
        "6. Struts\n",
        "\n",
        "\n",
        "1 Logistics\n",
        "===========\n",
        "\n",
        "  + Start time: Wed Sep 11 10:00 AM\n",
        "  + End Time: Wed Sep 11 04:00 PM\n",
        "  + Submission Form:\n",
        "    <https://docs.google.com/forms/d/e/1FAIpQLSc2aAG33E0rQgs3OsrpyjyREwy9OKK_WnKqmBLvD7pzM4sOvg/viewform?usp=sf_link>\n",
        "  + Viva Voce: Will be notified later.\n",
        "\n",
        "\n",
        "2 Task\n",
        "======\n",
        "\n",
        "  Consider the paper: <https://arxiv.org/abs/1804.03209>\n",
        "\n",
        "  1. Read and summarise the paper in about 50 words.\n",
        "  2. Download the dataset in the paper, statistically analyse and\n",
        "     describe it, so that it may be useful for posterity. (Include code\n",
        "     snippets in your .ipynb file to evidence your analysis.)\n",
        "  3. Train a classifier so that you are able to distinguish the commands\n",
        "     in the dataset.\n",
        "  4. Report the performance results using standard benchmarks.\n",
        "  5. Record about 30 samples of each command in your voice and create a\n",
        "     new dataset (including a new user id for yourself).  You may use a\n",
        "     timer on your computer to synchronise.\n",
        "  6. Fine tune your classifier to perform on your voice.\n",
        "  7. Report the results.\n",
        "\n",
        "\n",
        "3 Deliverables\n",
        "==============\n",
        "\n",
        "  1. A PDF Report: (as a part of your Git Repo) named\n",
        "     <ROLL_NO>-report.pdf\n",
        "  2. Assets: Your pretrained classifier model weights and your cleaned\n",
        "     and well-formed dataset.  This should be a part of your google\n",
        "     drive with read access to your instructor <bv.raghav@thapar.edu>\n",
        "  3. A demo notebook: (as a part of your Git Repo), that loads both your\n",
        "     model and dataset; and runs to show the results.\n",
        "  4. The demo notebook should verify the assets using a checksum\n",
        "     (md5/sha/…).  This step verifies that the assets have not been\n",
        "     tampered with at a later stage.\n",
        "\n",
        "\n",
        "4 Evaluation\n",
        "============\n",
        "\n",
        "  1. Clarity of thought process and presentation.\n",
        "  2. Data processing skills.\n",
        "  3. Model fine tuning/ training skills.\n",
        "  4. Details of progress, as in what were the encountered problems and\n",
        "     how were they solved.\n",
        "  5. How adaptable is your pipeline? (as in, how easy is it for me to\n",
        "     adapt it for my voice)\n",
        "  6. How scalable is your approach? (as in, how easy is it to scale it\n",
        "     to many new voices)\n",
        "  7. Strengths and Shortcomings of your approach.\n",
        "\n",
        "\n",
        "5 Note\n",
        "======\n",
        "\n",
        "  1. This is a test of how fast can we report the performance of a model\n",
        "     for a specific task.  The best performance is not expected; but a\n",
        "     holistic pipeline is.\n",
        "  2. You may improve upon it in future, out of interest; though it\n",
        "     wouldn’t influence your eval.\n",
        "\n",
        "\n",
        "6 Struts\n",
        "========\n",
        "\n",
        "  The following tutorials may be a good start point; there maybe more on\n",
        "  the internet.  You are free to choose.\n",
        "  1. <https://colab.research.google.com/github/pytorch/tutorials/blob/gh-pages/_downloads/c64f4bad00653411821adcb75aea9015/speech_command_classification_with_torchaudio_tutorial.ipynb#scrollTo=i0pBRWkcxWrX>\n",
        "  2. <https://colab.research.google.com/github/tensorflow/docs/blob/master/site/en/tutorials/audio/simple_audio.ipynb>"
      ],
      "metadata": {
        "id": "4rz1YOxxf4ON"
      }
    },
    {
      "cell_type": "markdown",
      "source": [
        "## Solution"
      ],
      "metadata": {
        "id": "qx2xTbgSFcWJ"
      }
    },
    {
      "cell_type": "code",
      "source": [
        "data_dir = '/content'"
      ],
      "metadata": {
        "id": "6vherHW6j1nU"
      },
      "execution_count": null,
      "outputs": []
    },
    {
      "cell_type": "code",
      "source": [
        "import os\n",
        "print(os.listdir('/content'))"
      ],
      "metadata": {
        "colab": {
          "base_uri": "https://localhost:8080/"
        },
        "id": "F-e6GPkLkBsH",
        "outputId": "139d1d4b-2df2-43e1-a70b-ef2e935e220e"
      },
      "execution_count": null,
      "outputs": [
        {
          "output_type": "stream",
          "name": "stdout",
          "text": [
            "['.config', 'speech_commands_v0.02.tar.gz', 'right', 'eight', 'two', 'on', 'dog', 'bed', 'no', 'nine', 'cat', 'one', 'up', 'five', 'backward', 'left', 'learn', '1804.03209v1.pdf', 'marvin', 'README.md', 'speech_commands_v0.02.tar.gz.1', 'go', 'follow', 'tree', 'off', 'validation_list.txt', 'testing_list.txt', 'stop', 'zero', 'six', 'visual', '.DS_Store', 'down', 'forward', 'LICENSE', 'happy', 'house', 'three', '_background_noise_', 'sheila', 'wow', 'seven', 'four', 'yes', 'bird', 'sample_data']\n"
          ]
        }
      ]
    },
    {
      "cell_type": "code",
      "source": [
        "\n",
        "commands = [d for d in os.listdir(data_dir) if os.path.isdir(os.path.join(data_dir, d))]\n",
        "print(f\"Commands in the dataset: {commands}\")\n",
        "\n",
        "file_counts = {command: len(os.listdir(os.path.join(data_dir, command))) for command in commands}\n",
        "print(f\"Number of files per command: {file_counts}\")\n"
      ],
      "metadata": {
        "colab": {
          "base_uri": "https://localhost:8080/"
        },
        "id": "8OKTAmlHkKJV",
        "outputId": "aad50f8b-c71e-4e77-bf15-3c6364f4a6d1"
      },
      "execution_count": null,
      "outputs": [
        {
          "output_type": "stream",
          "name": "stdout",
          "text": [
            "Commands in the dataset: ['.config', 'right', 'eight', 'two', 'on', 'dog', 'bed', 'no', 'nine', 'cat', 'one', 'up', 'five', 'backward', 'left', 'learn', 'marvin', 'go', 'follow', 'tree', 'off', 'stop', 'zero', 'six', 'visual', 'down', 'forward', 'happy', 'house', 'three', '_background_noise_', 'sheila', 'wow', 'seven', 'four', 'yes', 'bird', 'sample_data']\n",
            "Number of files per command: {'.config': 10, 'right': 3778, 'eight': 3787, 'two': 3880, 'on': 3845, 'dog': 2128, 'bed': 2014, 'no': 3941, 'nine': 3934, 'cat': 2031, 'one': 3890, 'up': 3723, 'five': 4052, 'backward': 1664, 'left': 3801, 'learn': 1575, 'marvin': 2100, 'go': 3880, 'follow': 1579, 'tree': 1759, 'off': 3745, 'stop': 3872, 'zero': 4052, 'six': 3860, 'visual': 1592, 'down': 3917, 'forward': 1557, 'happy': 2054, 'house': 2113, 'three': 3727, '_background_noise_': 7, 'sheila': 2022, 'wow': 2123, 'seven': 3998, 'four': 3728, 'yes': 4044, 'bird': 2064, 'sample_data': 6}\n"
          ]
        }
      ]
    },
    {
      "cell_type": "code",
      "source": [
        "import wave\n",
        "import numpy as np\n",
        "from collections import Counter\n",
        "\n",
        "def get_audio_properties(filename):\n",
        "    with wave.open(filename, 'r') as f:\n",
        "        frames = f.getnframes()\n",
        "        rate = f.getframerate()\n",
        "        duration = frames / float(rate)\n",
        "        return duration, rate\n",
        "\n",
        "durations = []\n",
        "for command in commands:\n",
        "    class_dir = os.path.join(data_dir, command)\n",
        "    if os.path.isdir(class_dir):\n",
        "        for filename in os.listdir(class_dir):\n",
        "            filepath = os.path.join(class_dir, filename)\n",
        "            try:\n",
        "                duration, rate = get_audio_properties(filepath)\n",
        "                durations.append(duration)\n",
        "            except:\n",
        "                pass\n",
        "\n",
        "durations = np.array(durations)\n",
        "print(f\"Mean duration: {np.mean(durations)}\")\n",
        "print(f\"Max duration: {np.max(durations)}\")\n",
        "print(f\"Min duration: {np.min(durations)}\")\n",
        "print(f\"Standard deviation: {np.std(durations)}\")\n",
        "\n",
        "import matplotlib.pyplot as plt\n",
        "\n",
        "plt.hist(durations, bins=50)\n",
        "plt.title('Distribution of Audio File Durations')\n",
        "plt.xlabel('Duration (seconds)')\n",
        "plt.ylabel('Frequency')\n",
        "plt.show()\n"
      ],
      "metadata": {
        "colab": {
          "base_uri": "https://localhost:8080/",
          "height": 541
        },
        "id": "0rEEB3_ElCTn",
        "outputId": "39cdb73d-f724-42e6-cd7a-ab42903009fa"
      },
      "execution_count": null,
      "outputs": [
        {
          "output_type": "stream",
          "name": "stdout",
          "text": [
            "Mean duration: 0.9846485000236217\n",
            "Max duration: 95.183125\n",
            "Min duration: 0.2133125\n",
            "Standard deviation: 0.5082371690052288\n"
          ]
        },
        {
          "output_type": "display_data",
          "data": {
            "text/plain": [
              "<Figure size 640x480 with 1 Axes>"
            ],
            "image/png": "[encoded data removed]"
          },
          "metadata": {}
        }
      ]
    },
    {
      "cell_type": "code",
      "source": [
        "import tensorflow as tf\n",
        "import pathlib\n",
        "\n",
        "batch_size = 32\n",
        "sampling_rate = 16000\n",
        "\n",
        "data_dir = pathlib.Path(data_dir)\n",
        "\n",
        "def decode_audio(audio_binary):\n",
        "    audio, _ = tf.audio.decode_wav(audio_binary)\n",
        "    return tf.squeeze(audio, axis=-1)\n",
        "\n",
        "def get_label(file_path):\n",
        "    parts = tf.strings.split(file_path, os.path.sep)\n",
        "    return parts[-2]\n",
        "\n",
        "def preprocess(file_path):\n",
        "    audio_binary = tf.io.read_file(file_path)\n",
        "    audio = decode_audio(audio_binary)\n",
        "    label = get_label(file_path)\n",
        "    return audio, label\n",
        "\n",
        "file_paths = [str(p) for p in data_dir.glob('*/*.wav')]\n",
        "labels = [p.parts[-2] for p in data_dir.glob('*/*.wav')]\n",
        "\n",
        "ds = tf.data.Dataset.from_tensor_slices((file_paths, labels))\n",
        "ds = ds.map(lambda x, y: preprocess(x), num_parallel_calls=tf.data.experimental.AUTOTUNE)\n",
        "ds = ds.batch(batch_size)\n",
        "ds = ds.prefetch(buffer_size=tf.data.experimental.AUTOTUNE)\n"
      ],
      "metadata": {
        "id": "HAeqbeLLlQ60"
      },
      "execution_count": null,
      "outputs": []
    },
    {
      "cell_type": "code",
      "source": [
        "from tensorflow.keras import layers, models\n",
        "\n",
        "# Build a simple CNN model\n",
        "model = models.Sequential([\n",
        "    layers.Input(shape=(sampling_rate, 1)),\n",
        "    layers.Conv1D(16, kernel_size=3, strides=1, activation='relu'),\n",
        "    layers.MaxPooling1D(pool_size=2),\n",
        "    layers.Conv1D(32, kernel_size=3, strides=1, activation='relu'),\n",
        "    layers.MaxPooling1D(pool_size=2),\n",
        "    layers.Flatten(),\n",
        "    layers.Dense(128, activation='relu'),\n",
        "    layers.Dense(len(commands), activation='softmax')  # Output layer for classification\n",
        "])\n",
        "\n",
        "# Compile the model\n",
        "model.compile(optimizer='adam',\n",
        "              loss='sparse_categorical_crossentropy',\n",
        "              metrics=['accuracy'])\n",
        "\n",
        "# Split the dataset into training and validation sets\n",
        "train_size = int(0.8 * len(file_paths))\n",
        "train_ds = ds.take(train_size)\n",
        "val_ds = ds.skip(train_size)\n",
        "\n",
        "# Train the model\n",
        "history = model.fit(train_ds, epochs=10, validation_data=val_ds)\n",
        "\n",
        "# Evaluate the model\n",
        "test_loss, test_acc = model.evaluate(val_ds, verbose=2)\n",
        "print(f\"Test accuracy: {test_acc}\")\n"
      ],
      "metadata": {
        "id": "sFNxSPp8FZ0a",
        "colab": {
          "base_uri": "https://localhost:8080/",
          "height": 1000
        },
        "outputId": "cff1c11d-2e09-4834-d7f9-01179d4f572b"
      },
      "execution_count": null,
      "outputs": [
        {
          "output_type": "stream",
          "name": "stdout",
          "text": [
            "Epoch 1/10\n"
          ]
        },
        {
          "output_type": "error",
          "ename": "UnimplementedError",
          "evalue": "Graph execution error:\n\nDetected at node compile_loss/sparse_categorical_crossentropy/Cast defined at (most recent call last):\n  File \"/usr/lib/python3.10/runpy.py\", line 196, in _run_module_as_main\n\n  File \"/usr/lib/python3.10/runpy.py\", line 86, in _run_code\n\n  File \"/usr/local/lib/python3.10/dist-packages/colab_kernel_launcher.py\", line 37, in <module>\n\n  File \"/usr/local/lib/python3.10/dist-packages/traitlets/config/application.py\", line 992, in launch_instance\n\n  File \"/usr/local/lib/python3.10/dist-packages/ipykernel/kernelapp.py\", line 619, in start\n\n  File \"/usr/local/lib/python3.10/dist-packages/tornado/platform/asyncio.py\", line 195, in start\n\n  File \"/usr/lib/python3.10/asyncio/base_events.py\", line 603, in run_forever\n\n  File \"/usr/lib/python3.10/asyncio/base_events.py\", line 1909, in _run_once\n\n  File \"/usr/lib/python3.10/asyncio/events.py\", line 80, in _run\n\n  File \"/usr/local/lib/python3.10/dist-packages/tornado/ioloop.py\", line 685, in <lambda>\n\n  File \"/usr/local/lib/python3.10/dist-packages/tornado/ioloop.py\", line 738, in _run_callback\n\n  File \"/usr/local/lib/python3.10/dist-packages/tornado/gen.py\", line 825, in inner\n\n  File \"/usr/local/lib/python3.10/dist-packages/tornado/gen.py\", line 786, in run\n\n  File \"/usr/local/lib/python3.10/dist-packages/ipykernel/kernelbase.py\", line 361, in process_one\n\n  File \"/usr/local/lib/python3.10/dist-packages/tornado/gen.py\", line 234, in wrapper\n\n  File \"/usr/local/lib/python3.10/dist-packages/ipykernel/kernelbase.py\", line 261, in dispatch_shell\n\n  File \"/usr/local/lib/python3.10/dist-packages/tornado/gen.py\", line 234, in wrapper\n\n  File \"/usr/local/lib/python3.10/dist-packages/ipykernel/kernelbase.py\", line 539, in execute_request\n\n  File \"/usr/local/lib/python3.10/dist-packages/tornado/gen.py\", line 234, in wrapper\n\n  File \"/usr/local/lib/python3.10/dist-packages/ipykernel/ipkernel.py\", line 302, in do_execute\n\n  File \"/usr/local/lib/python3.10/dist-packages/ipykernel/zmqshell.py\", line 539, in run_cell\n\n  File \"/usr/local/lib/python3.10/dist-packages/IPython/core/interactiveshell.py\", line 2975, in run_cell\n\n  File \"/usr/local/lib/python3.10/dist-packages/IPython/core/interactiveshell.py\", line 3030, in _run_cell\n\n  File \"/usr/local/lib/python3.10/dist-packages/IPython/core/async_helpers.py\", line 78, in _pseudo_sync_runner\n\n  File \"/usr/local/lib/python3.10/dist-packages/IPython/core/interactiveshell.py\", line 3257, in run_cell_async\n\n  File \"/usr/local/lib/python3.10/dist-packages/IPython/core/interactiveshell.py\", line 3473, in run_ast_nodes\n\n  File \"/usr/local/lib/python3.10/dist-packages/IPython/core/interactiveshell.py\", line 3553, in run_code\n\n  File \"<ipython-input-23-bc59da08cf2c>\", line 26, in <cell line: 26>\n\n  File \"/usr/local/lib/python3.10/dist-packages/keras/src/utils/traceback_utils.py\", line 117, in error_handler\n\n  File \"/usr/local/lib/python3.10/dist-packages/keras/src/backend/tensorflow/trainer.py\", line 318, in fit\n\n  File \"/usr/local/lib/python3.10/dist-packages/keras/src/backend/tensorflow/trainer.py\", line 121, in one_step_on_iterator\n\n  File \"/usr/local/lib/python3.10/dist-packages/keras/src/backend/tensorflow/trainer.py\", line 108, in one_step_on_data\n\n  File \"/usr/local/lib/python3.10/dist-packages/keras/src/backend/tensorflow/trainer.py\", line 54, in train_step\n\n  File \"/usr/local/lib/python3.10/dist-packages/keras/src/trainers/trainer.py\", line 357, in _compute_loss\n\n  File \"/usr/local/lib/python3.10/dist-packages/keras/src/trainers/trainer.py\", line 325, in compute_loss\n\n  File \"/usr/local/lib/python3.10/dist-packages/keras/src/trainers/compile_utils.py\", line 609, in __call__\n\n  File \"/usr/local/lib/python3.10/dist-packages/keras/src/trainers/compile_utils.py\", line 645, in call\n\n  File \"/usr/local/lib/python3.10/dist-packages/keras/src/losses/loss.py\", line 39, in __call__\n\n  File \"/usr/local/lib/python3.10/dist-packages/keras/src/tree/tree_api.py\", line 148, in map_structure\n\n  File \"/usr/local/lib/python3.10/dist-packages/keras/src/tree/optree_impl.py\", line 79, in map_structure\n\n  File \"/usr/local/lib/python3.10/dist-packages/optree/ops.py\", line 747, in tree_map\n\n  File \"/usr/local/lib/python3.10/dist-packages/keras/src/losses/loss.py\", line 40, in <lambda>\n\n  File \"/usr/local/lib/python3.10/dist-packages/keras/src/ops/core.py\", line 743, in convert_to_tensor\n\n  File \"/usr/local/lib/python3.10/dist-packages/keras/src/backend/tensorflow/core.py\", line 120, in convert_to_tensor\n\nCast string to float is not supported\n\t [[{{node compile_loss/sparse_categorical_crossentropy/Cast}}]] [Op:__inference_one_step_on_iterator_3379]",
          "traceback": [
            "\u001b[0;31m---------------------------------------------------------------------------\u001b[0m",
            "\u001b[0;31mUnimplementedError\u001b[0m                        Traceback (most recent call last)",
            "\u001b[0;32m<ipython-input-23-bc59da08cf2c>\u001b[0m in \u001b[0;36m<cell line: 26>\u001b[0;34m()\u001b[0m\n\u001b[1;32m     24\u001b[0m \u001b[0;34m\u001b[0m\u001b[0m\n\u001b[1;32m     25\u001b[0m \u001b[0;31m# Train the model\u001b[0m\u001b[0;34m\u001b[0m\u001b[0;34m\u001b[0m\u001b[0m\n\u001b[0;32m---> 26\u001b[0;31m \u001b[0mhistory\u001b[0m \u001b[0;34m=\u001b[0m \u001b[0mmodel\u001b[0m\u001b[0;34m.\u001b[0m\u001b[0mfit\u001b[0m\u001b[0;34m(\u001b[0m\u001b[0mtrain_ds\u001b[0m\u001b[0;34m,\u001b[0m \u001b[0mepochs\u001b[0m\u001b[0;34m=\u001b[0m\u001b[0;36m10\u001b[0m\u001b[0;34m,\u001b[0m \u001b[0mvalidation_data\u001b[0m\u001b[0;34m=\u001b[0m\u001b[0mval_ds\u001b[0m\u001b[0;34m)\u001b[0m\u001b[0;34m\u001b[0m\u001b[0;34m\u001b[0m\u001b[0m\n\u001b[0m\u001b[1;32m     27\u001b[0m \u001b[0;34m\u001b[0m\u001b[0m\n\u001b[1;32m     28\u001b[0m \u001b[0;31m# Evaluate the model\u001b[0m\u001b[0;34m\u001b[0m\u001b[0;34m\u001b[0m\u001b[0m\n",
            "\u001b[0;32m/usr/local/lib/python3.10/dist-packages/keras/src/utils/traceback_utils.py\u001b[0m in \u001b[0;36merror_handler\u001b[0;34m(*args, **kwargs)\u001b[0m\n\u001b[1;32m    120\u001b[0m             \u001b[0;31m# To get the full stack trace, call:\u001b[0m\u001b[0;34m\u001b[0m\u001b[0;34m\u001b[0m\u001b[0m\n\u001b[1;32m    121\u001b[0m             \u001b[0;31m# `keras.config.disable_traceback_filtering()`\u001b[0m\u001b[0;34m\u001b[0m\u001b[0;34m\u001b[0m\u001b[0m\n\u001b[0;32m--> 122\u001b[0;31m             \u001b[0;32mraise\u001b[0m \u001b[0me\u001b[0m\u001b[0;34m.\u001b[0m\u001b[0mwith_traceback\u001b[0m\u001b[0;34m(\u001b[0m\u001b[0mfiltered_tb\u001b[0m\u001b[0;34m)\u001b[0m \u001b[0;32mfrom\u001b[0m \u001b[0;32mNone\u001b[0m\u001b[0;34m\u001b[0m\u001b[0;34m\u001b[0m\u001b[0m\n\u001b[0m\u001b[1;32m    123\u001b[0m         \u001b[0;32mfinally\u001b[0m\u001b[0;34m:\u001b[0m\u001b[0;34m\u001b[0m\u001b[0;34m\u001b[0m\u001b[0m\n\u001b[1;32m    124\u001b[0m             \u001b[0;32mdel\u001b[0m \u001b[0mfiltered_tb\u001b[0m\u001b[0;34m\u001b[0m\u001b[0;34m\u001b[0m\u001b[0m\n",
            "\u001b[0;32m/usr/local/lib/python3.10/dist-packages/tensorflow/python/eager/execute.py\u001b[0m in \u001b[0;36mquick_execute\u001b[0;34m(op_name, num_outputs, inputs, attrs, ctx, name)\u001b[0m\n\u001b[1;32m     51\u001b[0m   \u001b[0;32mtry\u001b[0m\u001b[0;34m:\u001b[0m\u001b[0;34m\u001b[0m\u001b[0;34m\u001b[0m\u001b[0m\n\u001b[1;32m     52\u001b[0m     \u001b[0mctx\u001b[0m\u001b[0;34m.\u001b[0m\u001b[0mensure_initialized\u001b[0m\u001b[0;34m(\u001b[0m\u001b[0;34m)\u001b[0m\u001b[0;34m\u001b[0m\u001b[0;34m\u001b[0m\u001b[0m\n\u001b[0;32m---> 53\u001b[0;31m     tensors = pywrap_tfe.TFE_Py_Execute(ctx._handle, device_name, op_name,\n\u001b[0m\u001b[1;32m     54\u001b[0m                                         inputs, attrs, num_outputs)\n\u001b[1;32m     55\u001b[0m   \u001b[0;32mexcept\u001b[0m \u001b[0mcore\u001b[0m\u001b[0;34m.\u001b[0m\u001b[0m_NotOkStatusException\u001b[0m \u001b[0;32mas\u001b[0m \u001b[0me\u001b[0m\u001b[0;34m:\u001b[0m\u001b[0;34m\u001b[0m\u001b[0;34m\u001b[0m\u001b[0m\n",
            "\u001b[0;31mUnimplementedError\u001b[0m: Graph execution error:\n\nDetected at node compile_loss/sparse_categorical_crossentropy/Cast defined at (most recent call last):\n  File \"/usr/lib/python3.10/runpy.py\", line 196, in _run_module_as_main\n\n  File \"/usr/lib/python3.10/runpy.py\", line 86, in _run_code\n\n  File \"/usr/local/lib/python3.10/dist-packages/colab_kernel_launcher.py\", line 37, in <module>\n\n  File \"/usr/local/lib/python3.10/dist-packages/traitlets/config/application.py\", line 992, in launch_instance\n\n  File \"/usr/local/lib/python3.10/dist-packages/ipykernel/kernelapp.py\", line 619, in start\n\n  File \"/usr/local/lib/python3.10/dist-packages/tornado/platform/asyncio.py\", line 195, in start\n\n  File \"/usr/lib/python3.10/asyncio/base_events.py\", line 603, in run_forever\n\n  File \"/usr/lib/python3.10/asyncio/base_events.py\", line 1909, in _run_once\n\n  File \"/usr/lib/python3.10/asyncio/events.py\", line 80, in _run\n\n  File \"/usr/local/lib/python3.10/dist-packages/tornado/ioloop.py\", line 685, in <lambda>\n\n  File \"/usr/local/lib/python3.10/dist-packages/tornado/ioloop.py\", line 738, in _run_callback\n\n  File \"/usr/local/lib/python3.10/dist-packages/tornado/gen.py\", line 825, in inner\n\n  File \"/usr/local/lib/python3.10/dist-packages/tornado/gen.py\", line 786, in run\n\n  File \"/usr/local/lib/python3.10/dist-packages/ipykernel/kernelbase.py\", line 361, in process_one\n\n  File \"/usr/local/lib/python3.10/dist-packages/tornado/gen.py\", line 234, in wrapper\n\n  File \"/usr/local/lib/python3.10/dist-packages/ipykernel/kernelbase.py\", line 261, in dispatch_shell\n\n  File \"/usr/local/lib/python3.10/dist-packages/tornado/gen.py\", line 234, in wrapper\n\n  File \"/usr/local/lib/python3.10/dist-packages/ipykernel/kernelbase.py\", line 539, in execute_request\n\n  File \"/usr/local/lib/python3.10/dist-packages/tornado/gen.py\", line 234, in wrapper\n\n  File \"/usr/local/lib/python3.10/dist-packages/ipykernel/ipkernel.py\", line 302, in do_execute\n\n  File \"/usr/local/lib/python3.10/dist-packages/ipykernel/zmqshell.py\", line 539, in run_cell\n\n  File \"/usr/local/lib/python3.10/dist-packages/IPython/core/interactiveshell.py\", line 2975, in run_cell\n\n  File \"/usr/local/lib/python3.10/dist-packages/IPython/core/interactiveshell.py\", line 3030, in _run_cell\n\n  File \"/usr/local/lib/python3.10/dist-packages/IPython/core/async_helpers.py\", line 78, in _pseudo_sync_runner\n\n  File \"/usr/local/lib/python3.10/dist-packages/IPython/core/interactiveshell.py\", line 3257, in run_cell_async\n\n  File \"/usr/local/lib/python3.10/dist-packages/IPython/core/interactiveshell.py\", line 3473, in run_ast_nodes\n\n  File \"/usr/local/lib/python3.10/dist-packages/IPython/core/interactiveshell.py\", line 3553, in run_code\n\n  File \"<ipython-input-23-bc59da08cf2c>\", line 26, in <cell line: 26>\n\n  File \"/usr/local/lib/python3.10/dist-packages/keras/src/utils/traceback_utils.py\", line 117, in error_handler\n\n  File \"/usr/local/lib/python3.10/dist-packages/keras/src/backend/tensorflow/trainer.py\", line 318, in fit\n\n  File \"/usr/local/lib/python3.10/dist-packages/keras/src/backend/tensorflow/trainer.py\", line 121, in one_step_on_iterator\n\n  File \"/usr/local/lib/python3.10/dist-packages/keras/src/backend/tensorflow/trainer.py\", line 108, in one_step_on_data\n\n  File \"/usr/local/lib/python3.10/dist-packages/keras/src/backend/tensorflow/trainer.py\", line 54, in train_step\n\n  File \"/usr/local/lib/python3.10/dist-packages/keras/src/trainers/trainer.py\", line 357, in _compute_loss\n\n  File \"/usr/local/lib/python3.10/dist-packages/keras/src/trainers/trainer.py\", line 325, in compute_loss\n\n  File \"/usr/local/lib/python3.10/dist-packages/keras/src/trainers/compile_utils.py\", line 609, in __call__\n\n  File \"/usr/local/lib/python3.10/dist-packages/keras/src/trainers/compile_utils.py\", line 645, in call\n\n  File \"/usr/local/lib/python3.10/dist-packages/keras/src/losses/loss.py\", line 39, in __call__\n\n  File \"/usr/local/lib/python3.10/dist-packages/keras/src/tree/tree_api.py\", line 148, in map_structure\n\n  File \"/usr/local/lib/python3.10/dist-packages/keras/src/tree/optree_impl.py\", line 79, in map_structure\n\n  File \"/usr/local/lib/python3.10/dist-packages/optree/ops.py\", line 747, in tree_map\n\n  File \"/usr/local/lib/python3.10/dist-packages/keras/src/losses/loss.py\", line 40, in <lambda>\n\n  File \"/usr/local/lib/python3.10/dist-packages/keras/src/ops/core.py\", line 743, in convert_to_tensor\n\n  File \"/usr/local/lib/python3.10/dist-packages/keras/src/backend/tensorflow/core.py\", line 120, in convert_to_tensor\n\nCast string to float is not supported\n\t [[{{node compile_loss/sparse_categorical_crossentropy/Cast}}]] [Op:__inference_one_step_on_iterator_3379]"
          ]
        }
      ]
    },
    {
      "cell_type": "code",
      "source": [],
      "metadata": {
        "id": "3knBrdIMH4lG"
      },
      "execution_count": null,
      "outputs": []
    }
  ]
}